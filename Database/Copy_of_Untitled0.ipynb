{
  "nbformat": 4,
  "nbformat_minor": 0,
  "metadata": {
    "colab": {
      "name": "Copy of Untitled0.ipynb",
      "provenance": [],
      "collapsed_sections": []
    },
    "kernelspec": {
      "name": "python3",
      "display_name": "Python 3"
    },
    "language_info": {
      "name": "python"
    }
  },
  "cells": [
    {
      "cell_type": "code",
      "metadata": {
        "id": "ARvRrQWDARZK"
      },
      "source": [
        "# Add dependencies\n",
        "import pandas as pd\n",
        "from pathlib import Path\n",
        "from sklearn.model_selection import train_test_split\n",
        "from sklearn.linear_model import LogisticRegression"
      ],
      "execution_count": null,
      "outputs": []
    },
    {
      "cell_type": "code",
      "metadata": {
        "id": "VtXN5Nr11-Ef",
        "colab": {
          "base_uri": "https://localhost:8080/",
          "height": 324
        },
        "outputId": "b083716e-a5ac-4624-b9db-c708996806f4"
      },
      "source": [
        "df = pd.read_csv([\"Database/human_traffick_sample_dataset.csv\"])"
      ],
      "execution_count": null,
      "outputs": [
        {
          "output_type": "error",
          "ename": "ValueError",
          "evalue": "ignored",
          "traceback": [
            "\u001b[0;31m---------------------------------------------------------------------------\u001b[0m",
            "\u001b[0;31mValueError\u001b[0m                                Traceback (most recent call last)",
            "\u001b[0;32m<ipython-input-5-d3cbcb7f3467>\u001b[0m in \u001b[0;36m<module>\u001b[0;34m()\u001b[0m\n\u001b[0;32m----> 1\u001b[0;31m \u001b[0mdf\u001b[0m \u001b[0;34m=\u001b[0m \u001b[0mpd\u001b[0m\u001b[0;34m.\u001b[0m\u001b[0mread_csv\u001b[0m\u001b[0;34m(\u001b[0m\u001b[0;34m[\u001b[0m\u001b[0;34m\"Database/human_traffick_sample_dataset.csv\"\u001b[0m\u001b[0;34m]\u001b[0m\u001b[0;34m)\u001b[0m\u001b[0;34m\u001b[0m\u001b[0;34m\u001b[0m\u001b[0m\n\u001b[0m",
            "\u001b[0;32m/usr/local/lib/python3.7/dist-packages/pandas/io/parsers.py\u001b[0m in \u001b[0;36mread_csv\u001b[0;34m(filepath_or_buffer, sep, delimiter, header, names, index_col, usecols, squeeze, prefix, mangle_dupe_cols, dtype, engine, converters, true_values, false_values, skipinitialspace, skiprows, skipfooter, nrows, na_values, keep_default_na, na_filter, verbose, skip_blank_lines, parse_dates, infer_datetime_format, keep_date_col, date_parser, dayfirst, cache_dates, iterator, chunksize, compression, thousands, decimal, lineterminator, quotechar, quoting, doublequote, escapechar, comment, encoding, dialect, error_bad_lines, warn_bad_lines, delim_whitespace, low_memory, memory_map, float_precision)\u001b[0m\n\u001b[1;32m    686\u001b[0m     )\n\u001b[1;32m    687\u001b[0m \u001b[0;34m\u001b[0m\u001b[0m\n\u001b[0;32m--> 688\u001b[0;31m     \u001b[0;32mreturn\u001b[0m \u001b[0m_read\u001b[0m\u001b[0;34m(\u001b[0m\u001b[0mfilepath_or_buffer\u001b[0m\u001b[0;34m,\u001b[0m \u001b[0mkwds\u001b[0m\u001b[0;34m)\u001b[0m\u001b[0;34m\u001b[0m\u001b[0;34m\u001b[0m\u001b[0m\n\u001b[0m\u001b[1;32m    689\u001b[0m \u001b[0;34m\u001b[0m\u001b[0m\n\u001b[1;32m    690\u001b[0m \u001b[0;34m\u001b[0m\u001b[0m\n",
            "\u001b[0;32m/usr/local/lib/python3.7/dist-packages/pandas/io/parsers.py\u001b[0m in \u001b[0;36m_read\u001b[0;34m(filepath_or_buffer, kwds)\u001b[0m\n\u001b[1;32m    435\u001b[0m     \u001b[0;31m# See https://github.com/python/mypy/issues/1297\u001b[0m\u001b[0;34m\u001b[0m\u001b[0;34m\u001b[0m\u001b[0;34m\u001b[0m\u001b[0m\n\u001b[1;32m    436\u001b[0m     fp_or_buf, _, compression, should_close = get_filepath_or_buffer(\n\u001b[0;32m--> 437\u001b[0;31m         \u001b[0mfilepath_or_buffer\u001b[0m\u001b[0;34m,\u001b[0m \u001b[0mencoding\u001b[0m\u001b[0;34m,\u001b[0m \u001b[0mcompression\u001b[0m\u001b[0;34m\u001b[0m\u001b[0;34m\u001b[0m\u001b[0m\n\u001b[0m\u001b[1;32m    438\u001b[0m     )\n\u001b[1;32m    439\u001b[0m     \u001b[0mkwds\u001b[0m\u001b[0;34m[\u001b[0m\u001b[0;34m\"compression\"\u001b[0m\u001b[0;34m]\u001b[0m \u001b[0;34m=\u001b[0m \u001b[0mcompression\u001b[0m\u001b[0;34m\u001b[0m\u001b[0;34m\u001b[0m\u001b[0m\n",
            "\u001b[0;32m/usr/local/lib/python3.7/dist-packages/pandas/io/common.py\u001b[0m in \u001b[0;36mget_filepath_or_buffer\u001b[0;34m(filepath_or_buffer, encoding, compression, mode, storage_options)\u001b[0m\n\u001b[1;32m    241\u001b[0m     \u001b[0;32mif\u001b[0m \u001b[0;32mnot\u001b[0m \u001b[0mis_file_like\u001b[0m\u001b[0;34m(\u001b[0m\u001b[0mfilepath_or_buffer\u001b[0m\u001b[0;34m)\u001b[0m\u001b[0;34m:\u001b[0m\u001b[0;34m\u001b[0m\u001b[0;34m\u001b[0m\u001b[0m\n\u001b[1;32m    242\u001b[0m         \u001b[0mmsg\u001b[0m \u001b[0;34m=\u001b[0m \u001b[0;34mf\"Invalid file path or buffer object type: {type(filepath_or_buffer)}\"\u001b[0m\u001b[0;34m\u001b[0m\u001b[0;34m\u001b[0m\u001b[0m\n\u001b[0;32m--> 243\u001b[0;31m         \u001b[0;32mraise\u001b[0m \u001b[0mValueError\u001b[0m\u001b[0;34m(\u001b[0m\u001b[0mmsg\u001b[0m\u001b[0;34m)\u001b[0m\u001b[0;34m\u001b[0m\u001b[0;34m\u001b[0m\u001b[0m\n\u001b[0m\u001b[1;32m    244\u001b[0m \u001b[0;34m\u001b[0m\u001b[0m\n\u001b[1;32m    245\u001b[0m     \u001b[0;32mreturn\u001b[0m \u001b[0mfilepath_or_buffer\u001b[0m\u001b[0;34m,\u001b[0m \u001b[0;32mNone\u001b[0m\u001b[0;34m,\u001b[0m \u001b[0mcompression\u001b[0m\u001b[0;34m,\u001b[0m \u001b[0;32mFalse\u001b[0m\u001b[0;34m\u001b[0m\u001b[0;34m\u001b[0m\u001b[0m\n",
            "\u001b[0;31mValueError\u001b[0m: Invalid file path or buffer object type: <class 'list'>"
          ]
        }
      ]
    },
    {
      "cell_type": "code",
      "metadata": {
        "id": "43j5aQKV-e1e"
      },
      "source": [
        "len(df)"
      ],
      "execution_count": null,
      "outputs": []
    },
    {
      "cell_type": "code",
      "metadata": {
        "id": "5oH-f2z3_Eo-"
      },
      "source": [
        "from sklearn.model_selection import train_test_split\n",
        "X_train, X_test, y_train, y_test = train_test_split(df, test_size = .25, random_state=42, stratify=y)"
      ],
      "execution_count": null,
      "outputs": []
    },
    {
      "cell_type": "code",
      "metadata": {
        "id": "f8Oc4Vj-AWkH"
      },
      "source": [
        "# Length of training data\n",
        "len(train)"
      ],
      "execution_count": null,
      "outputs": []
    },
    {
      "cell_type": "code",
      "metadata": {
        "id": "op8nIL1CAZun"
      },
      "source": [
        "# Length of testing data\n",
        "len(test)"
      ],
      "execution_count": null,
      "outputs": []
    },
    {
      "cell_type": "code",
      "metadata": {
        "id": "n3TSCbCd1_eS"
      },
      "source": [
        "# Determining if victim is underage or not.\n",
        "If age_range >18\n",
        "  return \"underage\"\n",
        "  else:\n",
        "  return \"adult\"\n",
        "df_.head()"
      ],
      "execution_count": null,
      "outputs": []
    },
    {
      "cell_type": "code",
      "metadata": {
        "id": "VJJpBeEBEAQu"
      },
      "source": [
        "# Values for x and y\n",
        "x = df[[\"underage\", \"adult\"]]\n",
        "y = df[\"labor_type\"]"
      ],
      "execution_count": null,
      "outputs": []
    },
    {
      "cell_type": "code",
      "metadata": {
        "id": "YUsnKWv-3_7X"
      },
      "source": [
        "from sklearn.model_selection import train_test_split"
      ],
      "execution_count": null,
      "outputs": []
    },
    {
      "cell_type": "code",
      "metadata": {
        "id": "UEj3JS4d5HF8"
      },
      "source": [
        "x_train, x_test, y_train, y_test = train_test_split(x,y)"
      ],
      "execution_count": null,
      "outputs": []
    },
    {
      "cell_type": "code",
      "metadata": {
        "id": "tBrdXhrA5Xpj"
      },
      "source": [
        "from sklearn.model_selection import LinearRegression\n",
        "classifier = LinearRegression"
      ],
      "execution_count": null,
      "outputs": []
    },
    {
      "cell_type": "code",
      "metadata": {
        "id": "vLETTsTb6QZx"
      },
      "source": [
        "classifier.fit(X_train, y_train)"
      ],
      "execution_count": null,
      "outputs": []
    },
    {
      "cell_type": "code",
      "metadata": {
        "id": "zUyHGDjA647e"
      },
      "source": [
        "predictions = classifier.predict(X_test)\n",
        "pd.DataFrame({\"Prediction\": predictions, \"Actual\": y_test})"
      ],
      "execution_count": null,
      "outputs": []
    },
    {
      "cell_type": "code",
      "metadata": {
        "id": "i2FlDpBN68vQ"
      },
      "source": [
        "from sklearn.metrics import accuracy_score\n",
        "accuracy_score(y_test, predictions)"
      ],
      "execution_count": null,
      "outputs": []
    },
    {
      "cell_type": "code",
      "metadata": {
        "id": "iVJXAe5yBkUt"
      },
      "source": [
        "# Calculate the average victims that are underage in \"\"Labor.\n",
        "average_underage_Laborers = name_data_complete_df[\"underage_laborers\"].mean()\n",
        "average_underage_Laborers"
      ],
      "execution_count": null,
      "outputs": []
    },
    {
      "cell_type": "code",
      "metadata": {
        "id": "4fugPxChBqh-"
      },
      "source": [
        "# Adding a list of control types for underage victims to create a new DataFrame.\n",
        "control_methods_of_underage_victims_df = pd.DataFrame(\n",
        "          [{\"underage_victims_of_controlled_finances\": underage_control_financial_count,\n",
        "          \"underage_victims_of_controlled_threats\": underage_control_threats_count,\n",
        "          \"underage_victims_physically_controled\": underage_control_physical_count,\n",
        "          \"underage_victims_controlled_by_limited_necessities\": underage_control_limit_necessities_count,\n",
        "          \"underage_victims_controlled_by_other_means\": underage_control__other_count,}])\n",
        "\n",
        "control_methods_of_underage_victims_summary_df"
      ],
      "execution_count": null,
      "outputs": []
    },
    {
      "cell_type": "code",
      "metadata": {
        "id": "ng_EeDV4BuCo"
      },
      "source": [
        "# Adding a list of control types for adults victims to create a new DataFrame.\n",
        "control_methods_of_adult_victims_df = pd.DataFrame(\n",
        "          [{\"adult_victims_of_controlled_finances\": adult_control_financial_count,\n",
        "          \"adult_victims_of_controlled_threats\": adult_control_threats_count,\n",
        "          \"adult_victims_physically_controled\": adult_control_physical_count,\n",
        "          \"adult_victims_controlled_by_limited_necessities\": adult_control_limit_necessities_count,\n",
        "          \"adult_victims_controlled_by_other_means\": adult_control__other_count,}])\n",
        "\n",
        "control_methods_of_adult_victims_summary_df"
      ],
      "execution_count": null,
      "outputs": []
    },
    {
      "cell_type": "code",
      "metadata": {
        "id": "pMTjxI5aKRpx"
      },
      "source": [
        "If citizenship = \"legal\"\n",
        "  return \"Yes\"\n",
        "  else:\n",
        "    return \"No\"\n",
        "df_head()"
      ],
      "execution_count": null,
      "outputs": []
    },
    {
      "cell_type": "code",
      "metadata": {
        "id": "e_QShMEOC0Lz"
      },
      "source": [
        "# Values for x and y\n",
        "x = df[[\"legal\", \"illegal\"]]\n",
        "y = df[\"labor_type\"]"
      ],
      "execution_count": null,
      "outputs": []
    },
    {
      "cell_type": "code",
      "metadata": {
        "id": "0Rmma3ACC-rf"
      },
      "source": [
        "from sklearn.model_selection import train_test_split"
      ],
      "execution_count": null,
      "outputs": []
    },
    {
      "cell_type": "code",
      "metadata": {
        "id": "Wu1dvzzSDCuh"
      },
      "source": [
        "x_train, x_test, y_train, y_test = train_test_split(x,y)"
      ],
      "execution_count": null,
      "outputs": []
    },
    {
      "cell_type": "code",
      "metadata": {
        "id": "goWX4xgaDDAn"
      },
      "source": [
        "from sklearn.model_selection import LinearRegression\n",
        "classifier = LinearRegression"
      ],
      "execution_count": null,
      "outputs": []
    },
    {
      "cell_type": "code",
      "metadata": {
        "id": "OMRjSMGPDDOr"
      },
      "source": [
        "classifier.fit(X_train, y_train)"
      ],
      "execution_count": null,
      "outputs": []
    },
    {
      "cell_type": "code",
      "metadata": {
        "id": "_zszsHRPDDbZ"
      },
      "source": [
        "predictions = classifier.predict(X_test)\n",
        "pd.DataFrame({\"Prediction\": predictions, \"Actual\": y_test})"
      ],
      "execution_count": null,
      "outputs": []
    },
    {
      "cell_type": "code",
      "metadata": {
        "id": "qMG98xVfDDn2"
      },
      "source": [
        "from sklearn.metrics import accuracy_score\n",
        "accuracy_score(y_test, predictions)"
      ],
      "execution_count": null,
      "outputs": []
    },
    {
      "cell_type": "code",
      "metadata": {
        "id": "D5_8QStvDDzc"
      },
      "source": [
        "# Calculate the average victims that have illegal citizenship in \"\"Labor.\n",
        "average_illegal_Laborers = name_data_complete_df[\"illegal_laborers\"].mean()\n",
        "average_illegal_Laborers"
      ],
      "execution_count": null,
      "outputs": []
    },
    {
      "cell_type": "code",
      "metadata": {
        "id": "aPVksKaSDndW"
      },
      "source": [
        "# Calculate the average victims that have legal citizenship in \"\"Labor.\n",
        "average_legal_Laborers = name_data_complete_df[\"legal_laborers\"].mean()\n",
        "average_legal_Laborers"
      ],
      "execution_count": null,
      "outputs": []
    },
    {
      "cell_type": "code",
      "metadata": {
        "id": "AamrJ1iXEgVR"
      },
      "source": [
        "# Adding a list of control types for victims with legal citizenship to create a new DataFrame.\n",
        "control_methods_of_legal_citizen_victims_df = pd.DataFrame(\n",
        "          [{\"legal_citizen_victims_of_controlled_finances\": legal_citizen_control_financial_count,\n",
        "          \"legal_citizen_victims_of_controlled_threats\": legal_citizen_control_threats_count,\n",
        "          \"legal_citizen_victims_physically_controled\": legal_citizen_control_physical_count,\n",
        "          \"legal_citizen_victims_controlled_by_limited_necessities\": legal_citizen_control_limit_necessities_count,\n",
        "          \"legal_citizen_victims_controlled_by_other_means\": legal_citizen_control__other_count,}])\n",
        "\n",
        "control_methods_of_male_victims_summary_df"
      ],
      "execution_count": null,
      "outputs": []
    },
    {
      "cell_type": "code",
      "metadata": {
        "id": "Srus9KyQEg7G"
      },
      "source": [
        "# Adding a list of control types for victims with illegal citizenship to create a new DataFrame.\n",
        "control_methods_of_illegal_citizen_victims_df = pd.DataFrame(\n",
        "          [{\"illegal_citizen_victims_of_controlled_finances\": illegal_citizen_control_financial_count,\n",
        "          \"illegal_citizen_victims_of_controlled_threats\": illegal_citizen_control_threats_count,\n",
        "          \"illegal_citizen_victims_physically_controled\": illegal_citizen_control_physical_count,\n",
        "          \"illegal_citizen_victims_controlled_by_limited_necessities\": illegal_citizen_control_limit_necessities_count,\n",
        "          \"illegal_citizen_victims_controlled_by_other_means\": illegal_citizen_control__other_count,}])"
      ],
      "execution_count": null,
      "outputs": []
    },
    {
      "cell_type": "code",
      "metadata": {
        "id": "tREuASAVKmfe"
      },
      "source": [
        "If gender = Male\n",
        "  return \"Male\"\n",
        "  else:\n",
        "    return \"Female\"\n",
        "df_.head()"
      ],
      "execution_count": null,
      "outputs": []
    },
    {
      "cell_type": "code",
      "metadata": {
        "id": "SXeqgPWsGy-W"
      },
      "source": [
        "# Values for x and y\n",
        "x = df[[\"Male\", \"Female\"]]\n",
        "y = df[\"labor_type\"]"
      ],
      "execution_count": null,
      "outputs": []
    },
    {
      "cell_type": "code",
      "metadata": {
        "id": "Cg2SUM9PGzPu"
      },
      "source": [
        "from sklearn.model_selection import train_test_split"
      ],
      "execution_count": null,
      "outputs": []
    },
    {
      "cell_type": "code",
      "metadata": {
        "id": "VhXrGZ6rGzdm"
      },
      "source": [
        "x_train, x_test, y_train, y_test = train_test_split(x,y)"
      ],
      "execution_count": null,
      "outputs": []
    },
    {
      "cell_type": "code",
      "metadata": {
        "id": "6nNVPeYUGzrC"
      },
      "source": [
        "from sklearn.model_selection import LinearRegression\n",
        "classifier = LinearRegression"
      ],
      "execution_count": null,
      "outputs": []
    },
    {
      "cell_type": "code",
      "metadata": {
        "id": "ciCOoznKGz3F"
      },
      "source": [
        "classifier.fit(X_train, y_train)"
      ],
      "execution_count": null,
      "outputs": []
    },
    {
      "cell_type": "code",
      "metadata": {
        "id": "py_VdBWgG0Ef"
      },
      "source": [
        "predictions = classifier.predict(X_test)\n",
        "pd.DataFrame({\"Prediction\": predictions, \"Actual\": y_test})"
      ],
      "execution_count": null,
      "outputs": []
    },
    {
      "cell_type": "code",
      "metadata": {
        "id": "f7Ju1VjJG0RU"
      },
      "source": [
        "from sklearn.metrics import accuracy_score\n",
        "accuracy_score(y_test, predictions)"
      ],
      "execution_count": null,
      "outputs": []
    },
    {
      "cell_type": "code",
      "metadata": {
        "id": "pQI3Q_o6G0e_"
      },
      "source": [
        "# Calculate the average Male victims in \"\"Labor.\n",
        "average_Male_Laborers = name_data_complete_df[\"Male_laborers\"].mean()\n",
        "average_Male_Laborers"
      ],
      "execution_count": null,
      "outputs": []
    },
    {
      "cell_type": "code",
      "metadata": {
        "id": "mmmA3IrQHr3D"
      },
      "source": [
        "# Calculate the average female victims in \"\"Labor.\n",
        "average_Female_Laborers = name_data_complete_df[\"Female_laborers\"].mean()\n",
        "average_Female_Laborers"
      ],
      "execution_count": null,
      "outputs": []
    },
    {
      "cell_type": "code",
      "metadata": {
        "id": "o_nePHOmK6sK"
      },
      "source": [
        "# Adding a list of control types for underage victims to create a new DataFrame.\n",
        "control_methods_of_male_victims_df = pd.DataFrame(\n",
        "          [{\"male_victims_of_controlled_finances\": male_control_financial_count,\n",
        "          \"male_victims_of_controlled_threats\": male_control_threats_count,\n",
        "          \"male_victims_physically_controled\": male_control_physical_count,\n",
        "          \"male_victims_controlled_by_limited_necessities\": male_control_limit_necessities_count,\n",
        "          \"male_victims_controlled_by_other_means\": male_control__other_count,}])\n",
        "\n",
        "control_methods_of_male_victims_summary_df"
      ],
      "execution_count": null,
      "outputs": []
    },
    {
      "cell_type": "code",
      "metadata": {
        "id": "VO2G2gcl_cgj"
      },
      "source": [
        "# Adding a list of control types for adults victims to create a new DataFrame.\n",
        "control_methods_of_female_victims_df = pd.DataFrame(\n",
        "          [{\"female_victims_of_controlled_finances\": female_control_financial_count,\n",
        "          \"female_victims_of_controlled_threats\": female_control_threats_count,\n",
        "          \"female_victims_physically_controled\": female_control_physical_count,\n",
        "          \"female_victims_controlled_by_limited_necessities\": female_control_limit_necessities_count,\n",
        "          \"female_victims_controlled_by_other_means\": female_control__other_count,}])\n",
        "\n",
        "control_methods_of_female_victims_summary_df"
      ],
      "execution_count": null,
      "outputs": []
    }
  ]
}