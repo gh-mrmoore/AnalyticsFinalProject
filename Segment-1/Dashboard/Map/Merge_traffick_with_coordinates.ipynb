{
 "cells": [
  {
   "cell_type": "code",
   "execution_count": 26,
   "metadata": {},
   "outputs": [],
   "source": [
    "# Add the Pandas dependency.\n",
    "import pandas as pd\n",
    "import numpy as np"
   ]
  },
  {
   "cell_type": "code",
   "execution_count": 27,
   "metadata": {},
   "outputs": [],
   "source": [
    "coordinates_data = 'Country_coordinates.csv'"
   ]
  },
  {
   "cell_type": "code",
   "execution_count": 28,
   "metadata": {},
   "outputs": [
    {
     "data": {
      "text/html": [
       "<div>\n",
       "<style scoped>\n",
       "    .dataframe tbody tr th:only-of-type {\n",
       "        vertical-align: middle;\n",
       "    }\n",
       "\n",
       "    .dataframe tbody tr th {\n",
       "        vertical-align: top;\n",
       "    }\n",
       "\n",
       "    .dataframe thead th {\n",
       "        text-align: right;\n",
       "    }\n",
       "</style>\n",
       "<table border=\"1\" class=\"dataframe\">\n",
       "  <thead>\n",
       "    <tr style=\"text-align: right;\">\n",
       "      <th></th>\n",
       "      <th>country</th>\n",
       "      <th>alpha-2</th>\n",
       "      <th>alpha-3</th>\n",
       "      <th>location</th>\n",
       "    </tr>\n",
       "  </thead>\n",
       "  <tbody>\n",
       "    <tr>\n",
       "      <th>0</th>\n",
       "      <td>Colombia</td>\n",
       "      <td>CO</td>\n",
       "      <td>COL</td>\n",
       "      <td>4.570868, -74.297333</td>\n",
       "    </tr>\n",
       "    <tr>\n",
       "      <th>1</th>\n",
       "      <td>Moldova</td>\n",
       "      <td>MD</td>\n",
       "      <td>MDA</td>\n",
       "      <td>47.411631, 28.369885</td>\n",
       "    </tr>\n",
       "    <tr>\n",
       "      <th>2</th>\n",
       "      <td>Romania</td>\n",
       "      <td>RO</td>\n",
       "      <td>ROU</td>\n",
       "      <td>45.943161, 24.96676</td>\n",
       "    </tr>\n",
       "    <tr>\n",
       "      <th>3</th>\n",
       "      <td>Ukraine</td>\n",
       "      <td>UA</td>\n",
       "      <td>UKR</td>\n",
       "      <td>48.379433, 31.16558</td>\n",
       "    </tr>\n",
       "    <tr>\n",
       "      <th>4</th>\n",
       "      <td>Belarus</td>\n",
       "      <td>BY</td>\n",
       "      <td>BLR</td>\n",
       "      <td>53.709807, 27.953389</td>\n",
       "    </tr>\n",
       "  </tbody>\n",
       "</table>\n",
       "</div>"
      ],
      "text/plain": [
       "    country alpha-2 alpha-3              location\n",
       "0  Colombia      CO     COL  4.570868, -74.297333\n",
       "1   Moldova      MD     MDA  47.411631, 28.369885\n",
       "2   Romania      RO     ROU   45.943161, 24.96676\n",
       "3   Ukraine      UA     UKR   48.379433, 31.16558\n",
       "4   Belarus      BY     BLR  53.709807, 27.953389"
      ]
     },
     "execution_count": 28,
     "metadata": {},
     "output_type": "execute_result"
    }
   ],
   "source": [
    "coordinates_data_df = pd.read_csv(coordinates_data)\n",
    "coordinates_data_df.head()\n",
    "\n"
   ]
  },
  {
   "cell_type": "code",
   "execution_count": 29,
   "metadata": {},
   "outputs": [
    {
     "data": {
      "text/plain": [
       "46"
      ]
     },
     "execution_count": 29,
     "metadata": {},
     "output_type": "execute_result"
    }
   ],
   "source": [
    "coordinates_data_df['alpha-2'].count()"
   ]
  },
  {
   "cell_type": "code",
   "execution_count": 30,
   "metadata": {},
   "outputs": [
    {
     "data": {
      "text/plain": [
       "Index(['country', 'alpha-2', 'alpha-3', 'location'], dtype='object')"
      ]
     },
     "execution_count": 30,
     "metadata": {},
     "output_type": "execute_result"
    }
   ],
   "source": [
    "coordinates_data_df.columns"
   ]
  },
  {
   "cell_type": "code",
   "execution_count": 31,
   "metadata": {},
   "outputs": [
    {
     "data": {
      "text/html": [
       "<div>\n",
       "<style scoped>\n",
       "    .dataframe tbody tr th:only-of-type {\n",
       "        vertical-align: middle;\n",
       "    }\n",
       "\n",
       "    .dataframe tbody tr th {\n",
       "        vertical-align: top;\n",
       "    }\n",
       "\n",
       "    .dataframe thead th {\n",
       "        text-align: right;\n",
       "    }\n",
       "</style>\n",
       "<table border=\"1\" class=\"dataframe\">\n",
       "  <thead>\n",
       "    <tr style=\"text-align: right;\">\n",
       "      <th></th>\n",
       "      <th>country</th>\n",
       "      <th>country_of_exploitation</th>\n",
       "      <th>alpha-3</th>\n",
       "      <th>location</th>\n",
       "    </tr>\n",
       "  </thead>\n",
       "  <tbody>\n",
       "    <tr>\n",
       "      <th>0</th>\n",
       "      <td>Colombia</td>\n",
       "      <td>CO</td>\n",
       "      <td>COL</td>\n",
       "      <td>4.570868, -74.297333</td>\n",
       "    </tr>\n",
       "    <tr>\n",
       "      <th>1</th>\n",
       "      <td>Moldova</td>\n",
       "      <td>MD</td>\n",
       "      <td>MDA</td>\n",
       "      <td>47.411631, 28.369885</td>\n",
       "    </tr>\n",
       "    <tr>\n",
       "      <th>2</th>\n",
       "      <td>Romania</td>\n",
       "      <td>RO</td>\n",
       "      <td>ROU</td>\n",
       "      <td>45.943161, 24.96676</td>\n",
       "    </tr>\n",
       "    <tr>\n",
       "      <th>3</th>\n",
       "      <td>Ukraine</td>\n",
       "      <td>UA</td>\n",
       "      <td>UKR</td>\n",
       "      <td>48.379433, 31.16558</td>\n",
       "    </tr>\n",
       "    <tr>\n",
       "      <th>4</th>\n",
       "      <td>Belarus</td>\n",
       "      <td>BY</td>\n",
       "      <td>BLR</td>\n",
       "      <td>53.709807, 27.953389</td>\n",
       "    </tr>\n",
       "  </tbody>\n",
       "</table>\n",
       "</div>"
      ],
      "text/plain": [
       "    country country_of_exploitation alpha-3              location\n",
       "0  Colombia                      CO     COL  4.570868, -74.297333\n",
       "1   Moldova                      MD     MDA  47.411631, 28.369885\n",
       "2   Romania                      RO     ROU   45.943161, 24.96676\n",
       "3   Ukraine                      UA     UKR   48.379433, 31.16558\n",
       "4   Belarus                      BY     BLR  53.709807, 27.953389"
      ]
     },
     "execution_count": 31,
     "metadata": {},
     "output_type": "execute_result"
    }
   ],
   "source": [
    "coordinates_data_df.rename(columns = {'alpha-2': 'country_of_exploitation'}, inplace=True)\n",
    "coordinates_data_df.head()"
   ]
  },
  {
   "cell_type": "code",
   "execution_count": 32,
   "metadata": {},
   "outputs": [],
   "source": [
    "traffick_df = pd.read_csv('human_traffick_sample_dataset_mrm.csv')"
   ]
  },
  {
   "cell_type": "code",
   "execution_count": 33,
   "metadata": {},
   "outputs": [
    {
     "data": {
      "text/plain": [
       "KH    40\n",
       "MY    34\n",
       "US    30\n",
       "CN    26\n",
       "UA    26\n",
       "IN    22\n",
       "SA    14\n",
       "BD    12\n",
       "MD     2\n",
       "VN     2\n",
       "Name: country_of_exploitation, dtype: int64"
      ]
     },
     "execution_count": 33,
     "metadata": {},
     "output_type": "execute_result"
    }
   ],
   "source": [
    "traffick_df.country_of_exploitation.value_counts()"
   ]
  },
  {
   "cell_type": "code",
   "execution_count": 35,
   "metadata": {},
   "outputs": [
    {
     "data": {
      "text/html": [
       "<div>\n",
       "<style scoped>\n",
       "    .dataframe tbody tr th:only-of-type {\n",
       "        vertical-align: middle;\n",
       "    }\n",
       "\n",
       "    .dataframe tbody tr th {\n",
       "        vertical-align: top;\n",
       "    }\n",
       "\n",
       "    .dataframe thead th {\n",
       "        text-align: right;\n",
       "    }\n",
       "</style>\n",
       "<table border=\"1\" class=\"dataframe\">\n",
       "  <thead>\n",
       "    <tr style=\"text-align: right;\">\n",
       "      <th></th>\n",
       "      <th>registration_year</th>\n",
       "      <th>datasource</th>\n",
       "      <th>gender</th>\n",
       "      <th>age_range</th>\n",
       "      <th>majority_status</th>\n",
       "      <th>majority_status_at_exploit</th>\n",
       "      <th>majority_entry</th>\n",
       "      <th>citizenship</th>\n",
       "      <th>country_of_exploitation</th>\n",
       "      <th>control_financial</th>\n",
       "      <th>...</th>\n",
       "      <th>control_physical</th>\n",
       "      <th>control_limit_necessities</th>\n",
       "      <th>control_other</th>\n",
       "      <th>labor</th>\n",
       "      <th>victim_purpose</th>\n",
       "      <th>trafficker_relationship</th>\n",
       "      <th>was_trafficked</th>\n",
       "      <th>country</th>\n",
       "      <th>alpha-3</th>\n",
       "      <th>location</th>\n",
       "    </tr>\n",
       "  </thead>\n",
       "  <tbody>\n",
       "    <tr>\n",
       "      <th>0</th>\n",
       "      <td>2017</td>\n",
       "      <td>Case Management</td>\n",
       "      <td>Female</td>\n",
       "      <td>0--8</td>\n",
       "      <td>Minor</td>\n",
       "      <td>Minor</td>\n",
       "      <td>-99</td>\n",
       "      <td>-99</td>\n",
       "      <td>KH</td>\n",
       "      <td>-99</td>\n",
       "      <td>...</td>\n",
       "      <td>1</td>\n",
       "      <td>-99</td>\n",
       "      <td>1</td>\n",
       "      <td>0</td>\n",
       "      <td>-99</td>\n",
       "      <td>-99</td>\n",
       "      <td>1</td>\n",
       "      <td>Cambodia</td>\n",
       "      <td>KHM</td>\n",
       "      <td>12.565679, 104.990963</td>\n",
       "    </tr>\n",
       "    <tr>\n",
       "      <th>1</th>\n",
       "      <td>2017</td>\n",
       "      <td>Case Management</td>\n",
       "      <td>Female</td>\n",
       "      <td>0--8</td>\n",
       "      <td>Minor</td>\n",
       "      <td>Minor</td>\n",
       "      <td>-99</td>\n",
       "      <td>-99</td>\n",
       "      <td>KH</td>\n",
       "      <td>-99</td>\n",
       "      <td>...</td>\n",
       "      <td>1</td>\n",
       "      <td>-99</td>\n",
       "      <td>1</td>\n",
       "      <td>-99</td>\n",
       "      <td>6</td>\n",
       "      <td>4</td>\n",
       "      <td>1</td>\n",
       "      <td>Cambodia</td>\n",
       "      <td>KHM</td>\n",
       "      <td>12.565679, 104.990963</td>\n",
       "    </tr>\n",
       "    <tr>\n",
       "      <th>2</th>\n",
       "      <td>2018</td>\n",
       "      <td>Case Management</td>\n",
       "      <td>Female</td>\n",
       "      <td>0--8</td>\n",
       "      <td>Minor</td>\n",
       "      <td>-99</td>\n",
       "      <td>-99</td>\n",
       "      <td>MD</td>\n",
       "      <td>KH</td>\n",
       "      <td>-99</td>\n",
       "      <td>...</td>\n",
       "      <td>-99</td>\n",
       "      <td>-99</td>\n",
       "      <td>-99</td>\n",
       "      <td>-99</td>\n",
       "      <td>-99</td>\n",
       "      <td>-99</td>\n",
       "      <td>1</td>\n",
       "      <td>Cambodia</td>\n",
       "      <td>KHM</td>\n",
       "      <td>12.565679, 104.990963</td>\n",
       "    </tr>\n",
       "    <tr>\n",
       "      <th>3</th>\n",
       "      <td>2018</td>\n",
       "      <td>Case Management</td>\n",
       "      <td>Female</td>\n",
       "      <td>0--8</td>\n",
       "      <td>Minor</td>\n",
       "      <td>-99</td>\n",
       "      <td>-99</td>\n",
       "      <td>MD</td>\n",
       "      <td>KH</td>\n",
       "      <td>-99</td>\n",
       "      <td>...</td>\n",
       "      <td>-99</td>\n",
       "      <td>-99</td>\n",
       "      <td>1</td>\n",
       "      <td>-99</td>\n",
       "      <td>-99</td>\n",
       "      <td>-99</td>\n",
       "      <td>1</td>\n",
       "      <td>Cambodia</td>\n",
       "      <td>KHM</td>\n",
       "      <td>12.565679, 104.990963</td>\n",
       "    </tr>\n",
       "    <tr>\n",
       "      <th>4</th>\n",
       "      <td>2018</td>\n",
       "      <td>Case Management</td>\n",
       "      <td>Female</td>\n",
       "      <td>0--8</td>\n",
       "      <td>Minor</td>\n",
       "      <td>-99</td>\n",
       "      <td>-99</td>\n",
       "      <td>MD</td>\n",
       "      <td>KH</td>\n",
       "      <td>-99</td>\n",
       "      <td>...</td>\n",
       "      <td>-99</td>\n",
       "      <td>-99</td>\n",
       "      <td>1</td>\n",
       "      <td>-99</td>\n",
       "      <td>-99</td>\n",
       "      <td>-99</td>\n",
       "      <td>1</td>\n",
       "      <td>Cambodia</td>\n",
       "      <td>KHM</td>\n",
       "      <td>12.565679, 104.990963</td>\n",
       "    </tr>\n",
       "  </tbody>\n",
       "</table>\n",
       "<p>5 rows × 21 columns</p>\n",
       "</div>"
      ],
      "text/plain": [
       "   registration_year       datasource  gender age_range majority_status  \\\n",
       "0               2017  Case Management  Female      0--8           Minor   \n",
       "1               2017  Case Management  Female      0--8           Minor   \n",
       "2               2018  Case Management  Female      0--8           Minor   \n",
       "3               2018  Case Management  Female      0--8           Minor   \n",
       "4               2018  Case Management  Female      0--8           Minor   \n",
       "\n",
       "  majority_status_at_exploit majority_entry citizenship  \\\n",
       "0                      Minor            -99         -99   \n",
       "1                      Minor            -99         -99   \n",
       "2                        -99            -99          MD   \n",
       "3                        -99            -99          MD   \n",
       "4                        -99            -99          MD   \n",
       "\n",
       "  country_of_exploitation  control_financial  ...  control_physical  \\\n",
       "0                      KH                -99  ...                 1   \n",
       "1                      KH                -99  ...                 1   \n",
       "2                      KH                -99  ...               -99   \n",
       "3                      KH                -99  ...               -99   \n",
       "4                      KH                -99  ...               -99   \n",
       "\n",
       "   control_limit_necessities  control_other  labor  victim_purpose  \\\n",
       "0                        -99              1      0             -99   \n",
       "1                        -99              1    -99               6   \n",
       "2                        -99            -99    -99             -99   \n",
       "3                        -99              1    -99             -99   \n",
       "4                        -99              1    -99             -99   \n",
       "\n",
       "   trafficker_relationship  was_trafficked   country alpha-3  \\\n",
       "0                      -99               1  Cambodia     KHM   \n",
       "1                        4               1  Cambodia     KHM   \n",
       "2                      -99               1  Cambodia     KHM   \n",
       "3                      -99               1  Cambodia     KHM   \n",
       "4                      -99               1  Cambodia     KHM   \n",
       "\n",
       "                location  \n",
       "0  12.565679, 104.990963  \n",
       "1  12.565679, 104.990963  \n",
       "2  12.565679, 104.990963  \n",
       "3  12.565679, 104.990963  \n",
       "4  12.565679, 104.990963  \n",
       "\n",
       "[5 rows x 21 columns]"
      ]
     },
     "execution_count": 35,
     "metadata": {},
     "output_type": "execute_result"
    }
   ],
   "source": [
    "traffick_with_coordinates_df= pd.merge(traffick_df, coordinates_data_df, on= 'country_of_exploitation')\n",
    "traffick_with_coordinates_df.head()"
   ]
  },
  {
   "cell_type": "code",
   "execution_count": 36,
   "metadata": {},
   "outputs": [
    {
     "data": {
      "text/plain": [
       "0"
      ]
     },
     "execution_count": 36,
     "metadata": {},
     "output_type": "execute_result"
    }
   ],
   "source": [
    "traffick_with_coordinates_df['country_of_exploitation'].isnull().sum()"
   ]
  },
  {
   "cell_type": "code",
   "execution_count": 38,
   "metadata": {},
   "outputs": [],
   "source": [
    "traffick_with_coordinates_df[['latitude', 'longitude']]=traffick_with_coordinates_df['location'].str.split(',', expand=True) "
   ]
  },
  {
   "cell_type": "code",
   "execution_count": 39,
   "metadata": {},
   "outputs": [
    {
     "data": {
      "text/plain": [
       "Index(['registration_year', 'datasource', 'gender', 'age_range',\n",
       "       'majority_status', 'majority_status_at_exploit', 'majority_entry',\n",
       "       'citizenship', 'country_of_exploitation', 'control_financial',\n",
       "       'control_threats', 'control_physical', 'control_limit_necessities',\n",
       "       'control_other', 'labor', 'victim_purpose', 'trafficker_relationship',\n",
       "       'was_trafficked', 'country', 'alpha-3', 'location', 'latitude',\n",
       "       'longitude'],\n",
       "      dtype='object')"
      ]
     },
     "execution_count": 39,
     "metadata": {},
     "output_type": "execute_result"
    }
   ],
   "source": [
    "traffick_with_coordinates_df.columns"
   ]
  },
  {
   "cell_type": "code",
   "execution_count": 40,
   "metadata": {},
   "outputs": [
    {
     "data": {
      "text/plain": [
       "0                      Cambodia\n",
       "1                      Cambodia\n",
       "2                      Cambodia\n",
       "3                      Cambodia\n",
       "4                      Cambodia\n",
       "                 ...           \n",
       "203    United States of America\n",
       "204    United States of America\n",
       "205    United States of America\n",
       "206    United States of America\n",
       "207    United States of America\n",
       "Name: country, Length: 208, dtype: object"
      ]
     },
     "execution_count": 40,
     "metadata": {},
     "output_type": "execute_result"
    }
   ],
   "source": [
    "traffick_with_coordinates_df.country"
   ]
  },
  {
   "cell_type": "code",
   "execution_count": 41,
   "metadata": {},
   "outputs": [
    {
     "data": {
      "text/plain": [
       "Cambodia                    40\n",
       "Malaysia                    34\n",
       "United States of America    30\n",
       "China                       26\n",
       "Ukraine                     26\n",
       "India                       22\n",
       "Saudi Arabia                14\n",
       "Bangladesh                  12\n",
       "\\tViet Nam                   2\n",
       "Moldova                      2\n",
       "Name: country, dtype: int64"
      ]
     },
     "execution_count": 41,
     "metadata": {},
     "output_type": "execute_result"
    }
   ],
   "source": [
    "traffick_with_coordinates_df.country.value_counts()"
   ]
  },
  {
   "cell_type": "code",
   "execution_count": 42,
   "metadata": {},
   "outputs": [
    {
     "data": {
      "text/plain": [
       "KH    40\n",
       "MY    34\n",
       "US    30\n",
       "CN    26\n",
       "UA    26\n",
       "IN    22\n",
       "SA    14\n",
       "BD    12\n",
       "MD     2\n",
       "VN     2\n",
       "Name: country_of_exploitation, dtype: int64"
      ]
     },
     "execution_count": 42,
     "metadata": {},
     "output_type": "execute_result"
    }
   ],
   "source": [
    "traffick_with_coordinates_df.country_of_exploitation.value_counts()"
   ]
  },
  {
   "cell_type": "code",
   "execution_count": 43,
   "metadata": {},
   "outputs": [],
   "source": [
    "traffick_with_coordinates_df.to_csv('Cases_Coordinates.csv', index=False)"
   ]
  }
 ],
 "metadata": {
  "kernelspec": {
   "display_name": "PythonData",
   "language": "python",
   "name": "pythondata"
  },
  "language_info": {
   "codemirror_mode": {
    "name": "ipython",
    "version": 3
   },
   "file_extension": ".py",
   "mimetype": "text/x-python",
   "name": "python",
   "nbconvert_exporter": "python",
   "pygments_lexer": "ipython3",
   "version": "3.8.8"
  }
 },
 "nbformat": 4,
 "nbformat_minor": 4
}
