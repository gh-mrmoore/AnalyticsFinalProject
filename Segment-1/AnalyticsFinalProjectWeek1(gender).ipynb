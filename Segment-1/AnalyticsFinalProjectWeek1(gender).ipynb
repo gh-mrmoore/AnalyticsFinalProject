{
  "nbformat": 4,
  "nbformat_minor": 0,
  "metadata": {
    "colab": {
      "name": "AnalyticsFinalProjectWeek1(gender).ipynb",
      "provenance": [],
      "collapsed_sections": [],
      "authorship_tag": "ABX9TyMe7lrx2SARcsTCFLPRDxIl",
      "include_colab_link": true
    },
    "kernelspec": {
      "name": "python3",
      "display_name": "Python 3"
    },
    "language_info": {
      "name": "python"
    }
  },
  "cells": [
    {
      "cell_type": "markdown",
      "metadata": {
        "id": "view-in-github",
        "colab_type": "text"
      },
      "source": [
        "<a href=\"https://colab.research.google.com/github/gh-mrmoore/AnalyticsFinalProject/blob/MichelleEscobar/AnalyticsFinalProjectWeek1(gender).ipynb\" target=\"_parent\"><img src=\"https://colab.research.google.com/assets/colab-badge.svg\" alt=\"Open In Colab\"/></a>"
      ]
    },
    {
      "cell_type": "code",
      "metadata": {
        "id": "pDusjnNxGs8K"
      },
      "source": [
        "# Add dependencies\n",
        "import pandas as pd\n",
        "from sklearn.linear_model import LinearRegression"
      ],
      "execution_count": null,
      "outputs": []
    },
    {
      "cell_type": "code",
      "metadata": {
        "colab": {
          "base_uri": "https://localhost:8080/",
          "height": 349
        },
        "id": "9fmvfBL_G2wN",
        "outputId": "98bb311d-cdca-48a4-ccc2-fd383b0d49b7"
      },
      "source": [
        "trafficking_df = pd.read_csv(\"https://raw.githubusercontent.com/gh-mrmoore/AnalyticsFinalProject/MichelleVillafria/Database/human_traffick_sample_dataset.csv\")\n",
        "trafficking_df.head()"
      ],
      "execution_count": null,
      "outputs": [
        {
          "output_type": "execute_result",
          "data": {
            "text/html": [
              "<div>\n",
              "<style scoped>\n",
              "    .dataframe tbody tr th:only-of-type {\n",
              "        vertical-align: middle;\n",
              "    }\n",
              "\n",
              "    .dataframe tbody tr th {\n",
              "        vertical-align: top;\n",
              "    }\n",
              "\n",
              "    .dataframe thead th {\n",
              "        text-align: right;\n",
              "    }\n",
              "</style>\n",
              "<table border=\"1\" class=\"dataframe\">\n",
              "  <thead>\n",
              "    <tr style=\"text-align: right;\">\n",
              "      <th></th>\n",
              "      <th>registration_year</th>\n",
              "      <th>datasource</th>\n",
              "      <th>gender</th>\n",
              "      <th>age_range</th>\n",
              "      <th>majority_status</th>\n",
              "      <th>majority_status_at_exploit</th>\n",
              "      <th>majority_entry</th>\n",
              "      <th>citizenship</th>\n",
              "      <th>country_of_exploitation</th>\n",
              "      <th>control_financial</th>\n",
              "      <th>control_threats</th>\n",
              "      <th>control_physical</th>\n",
              "      <th>control_limit_necessities</th>\n",
              "      <th>control_other</th>\n",
              "      <th>labor</th>\n",
              "      <th>victim_purpose</th>\n",
              "      <th>trafficker_relationship</th>\n",
              "    </tr>\n",
              "  </thead>\n",
              "  <tbody>\n",
              "    <tr>\n",
              "      <th>0</th>\n",
              "      <td>2017</td>\n",
              "      <td>Case Management</td>\n",
              "      <td>Female</td>\n",
              "      <td>0--8</td>\n",
              "      <td>Minor</td>\n",
              "      <td>Minor</td>\n",
              "      <td>-99</td>\n",
              "      <td>-99</td>\n",
              "      <td>KH</td>\n",
              "      <td>-99</td>\n",
              "      <td>-99</td>\n",
              "      <td>1</td>\n",
              "      <td>-99</td>\n",
              "      <td>1</td>\n",
              "      <td>0</td>\n",
              "      <td>-99</td>\n",
              "      <td>-99</td>\n",
              "    </tr>\n",
              "    <tr>\n",
              "      <th>1</th>\n",
              "      <td>2017</td>\n",
              "      <td>Case Management</td>\n",
              "      <td>Female</td>\n",
              "      <td>0--8</td>\n",
              "      <td>Minor</td>\n",
              "      <td>Minor</td>\n",
              "      <td>-99</td>\n",
              "      <td>-99</td>\n",
              "      <td>KH</td>\n",
              "      <td>-99</td>\n",
              "      <td>1</td>\n",
              "      <td>1</td>\n",
              "      <td>-99</td>\n",
              "      <td>1</td>\n",
              "      <td>-99</td>\n",
              "      <td>6</td>\n",
              "      <td>4</td>\n",
              "    </tr>\n",
              "    <tr>\n",
              "      <th>2</th>\n",
              "      <td>2017</td>\n",
              "      <td>Case Management</td>\n",
              "      <td>Female</td>\n",
              "      <td>18--20</td>\n",
              "      <td>Adult</td>\n",
              "      <td>Adult</td>\n",
              "      <td>-99</td>\n",
              "      <td>KH</td>\n",
              "      <td>CN</td>\n",
              "      <td>-99</td>\n",
              "      <td>1</td>\n",
              "      <td>1</td>\n",
              "      <td>-99</td>\n",
              "      <td>-99</td>\n",
              "      <td>-99</td>\n",
              "      <td>3</td>\n",
              "      <td>3</td>\n",
              "    </tr>\n",
              "    <tr>\n",
              "      <th>3</th>\n",
              "      <td>2017</td>\n",
              "      <td>Case Management</td>\n",
              "      <td>Female</td>\n",
              "      <td>18--20</td>\n",
              "      <td>Adult</td>\n",
              "      <td>-99</td>\n",
              "      <td>-99</td>\n",
              "      <td>UA</td>\n",
              "      <td>UA</td>\n",
              "      <td>-99</td>\n",
              "      <td>-99</td>\n",
              "      <td>-99</td>\n",
              "      <td>-99</td>\n",
              "      <td>1</td>\n",
              "      <td>-99</td>\n",
              "      <td>-99</td>\n",
              "      <td>4</td>\n",
              "    </tr>\n",
              "    <tr>\n",
              "      <th>4</th>\n",
              "      <td>2017</td>\n",
              "      <td>Case Management</td>\n",
              "      <td>Female</td>\n",
              "      <td>21--23</td>\n",
              "      <td>Adult</td>\n",
              "      <td>Minor</td>\n",
              "      <td>-99</td>\n",
              "      <td>VN</td>\n",
              "      <td>VN</td>\n",
              "      <td>-99</td>\n",
              "      <td>1</td>\n",
              "      <td>-99</td>\n",
              "      <td>-99</td>\n",
              "      <td>-99</td>\n",
              "      <td>3</td>\n",
              "      <td>6</td>\n",
              "      <td>-99</td>\n",
              "    </tr>\n",
              "  </tbody>\n",
              "</table>\n",
              "</div>"
            ],
            "text/plain": [
              "   registration_year       datasource  ... victim_purpose trafficker_relationship\n",
              "0               2017  Case Management  ...            -99                     -99\n",
              "1               2017  Case Management  ...              6                       4\n",
              "2               2017  Case Management  ...              3                       3\n",
              "3               2017  Case Management  ...            -99                       4\n",
              "4               2017  Case Management  ...              6                     -99\n",
              "\n",
              "[5 rows x 17 columns]"
            ]
          },
          "metadata": {},
          "execution_count": 2
        }
      ]
    },
    {
      "cell_type": "code",
      "metadata": {
        "id": "YOPeURLTG_fC"
      },
      "source": [
        "# Values for x and y\n",
        "x = trafficking_df[[\"gender\"]]\n",
        "y = trafficking_df[\"labor\"]"
      ],
      "execution_count": null,
      "outputs": []
    },
    {
      "cell_type": "code",
      "metadata": {
        "colab": {
          "base_uri": "https://localhost:8080/"
        },
        "id": "Hp4tlPDyHCoJ",
        "outputId": "f89a932a-d2ee-4e85-ac57-4e6f8dc1ff02"
      },
      "source": [
        "print(x)"
      ],
      "execution_count": null,
      "outputs": [
        {
          "output_type": "stream",
          "name": "stdout",
          "text": [
            "     gender\n",
            "0    Female\n",
            "1    Female\n",
            "2    Female\n",
            "3    Female\n",
            "4    Female\n",
            "..      ...\n",
            "99   Female\n",
            "100  Female\n",
            "101  Female\n",
            "102  Female\n",
            "103  Female\n",
            "\n",
            "[104 rows x 1 columns]\n"
          ]
        }
      ]
    },
    {
      "cell_type": "code",
      "metadata": {
        "colab": {
          "base_uri": "https://localhost:8080/"
        },
        "id": "B7AmMOoEHEfI",
        "outputId": "7378be79-34b8-4fda-f59e-1c9315f9a68a"
      },
      "source": [
        "print(y)"
      ],
      "execution_count": null,
      "outputs": [
        {
          "output_type": "stream",
          "name": "stdout",
          "text": [
            "0       0\n",
            "1     -99\n",
            "2     -99\n",
            "3     -99\n",
            "4       3\n",
            "       ..\n",
            "99    -99\n",
            "100   -99\n",
            "101   -99\n",
            "102   -99\n",
            "103   -99\n",
            "Name: labor, Length: 104, dtype: int64\n"
          ]
        }
      ]
    }
  ]
}