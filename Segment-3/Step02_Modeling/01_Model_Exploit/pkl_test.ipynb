{
 "cells": [
  {
   "cell_type": "code",
   "execution_count": 7,
   "source": [
    "import joblib\r\n",
    "import os\r\n",
    "import pandas as pd\r\n",
    "import numpy as np"
   ],
   "outputs": [],
   "metadata": {}
  },
  {
   "cell_type": "code",
   "execution_count": 8,
   "source": [
    "model = joblib.load(os.path.join(\"Exports\", \"trafficking_exploit_model.pkl\"))"
   ],
   "outputs": [],
   "metadata": {}
  },
  {
   "cell_type": "code",
   "execution_count": 14,
   "source": [
    "# \"ExploitType\": [2], \r\n",
    "data = {\"gender\": [1], \"citizenship\": [144], \"ControlCategory\": [2], \"RecruiterCategory\": [2], \"Labor_Type\": [1], \"ageCategories\": [7]}\r\n",
    "\r\n",
    "predict_df = pd.DataFrame(data)\r\n",
    "predict_df"
   ],
   "outputs": [
    {
     "output_type": "execute_result",
     "data": {
      "text/html": [
       "<div>\n",
       "<style scoped>\n",
       "    .dataframe tbody tr th:only-of-type {\n",
       "        vertical-align: middle;\n",
       "    }\n",
       "\n",
       "    .dataframe tbody tr th {\n",
       "        vertical-align: top;\n",
       "    }\n",
       "\n",
       "    .dataframe thead th {\n",
       "        text-align: right;\n",
       "    }\n",
       "</style>\n",
       "<table border=\"1\" class=\"dataframe\">\n",
       "  <thead>\n",
       "    <tr style=\"text-align: right;\">\n",
       "      <th></th>\n",
       "      <th>gender</th>\n",
       "      <th>citizenship</th>\n",
       "      <th>ControlCategory</th>\n",
       "      <th>RecruiterCategory</th>\n",
       "      <th>Labor_Type</th>\n",
       "      <th>ageCategories</th>\n",
       "    </tr>\n",
       "  </thead>\n",
       "  <tbody>\n",
       "    <tr>\n",
       "      <th>0</th>\n",
       "      <td>1</td>\n",
       "      <td>144</td>\n",
       "      <td>2</td>\n",
       "      <td>2</td>\n",
       "      <td>1</td>\n",
       "      <td>7</td>\n",
       "    </tr>\n",
       "  </tbody>\n",
       "</table>\n",
       "</div>"
      ],
      "text/plain": [
       "   gender  citizenship  ControlCategory  RecruiterCategory  Labor_Type  \\\n",
       "0       1          144                2                  2           1   \n",
       "\n",
       "   ageCategories  \n",
       "0              7  "
      ]
     },
     "metadata": {},
     "execution_count": 14
    }
   ],
   "metadata": {}
  },
  {
   "cell_type": "markdown",
   "source": [
    "gender\tcitizenship\tControlCategory\tRecruiterCategory\tExploitType\tLabor_Type\tageCategories\r\n",
    "0\t1\t144\t2\t2\t2\t1\t7"
   ],
   "metadata": {}
  },
  {
   "cell_type": "code",
   "execution_count": 15,
   "source": [
    "pkl_prediction = model.predict(predict_df)\r\n",
    "pkl_prediction"
   ],
   "outputs": [
    {
     "output_type": "execute_result",
     "data": {
      "text/plain": [
       "array([2], dtype=int64)"
      ]
     },
     "metadata": {},
     "execution_count": 15
    }
   ],
   "metadata": {}
  }
 ],
 "metadata": {
  "orig_nbformat": 4,
  "language_info": {
   "name": "python",
   "version": "3.7.10",
   "mimetype": "text/x-python",
   "codemirror_mode": {
    "name": "ipython",
    "version": 3
   },
   "pygments_lexer": "ipython3",
   "nbconvert_exporter": "python",
   "file_extension": ".py"
  },
  "kernelspec": {
   "name": "python3",
   "display_name": "Python 3.7.10 64-bit ('mlenv': conda)"
  },
  "interpreter": {
   "hash": "6ef91436c75441bff209dd3fb90dd6a3b4e1f5a85454829e394e29fa3feb2383"
  }
 },
 "nbformat": 4,
 "nbformat_minor": 2
}