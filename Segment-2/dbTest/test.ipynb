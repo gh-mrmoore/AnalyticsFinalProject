{
 "cells": [
  {
   "cell_type": "code",
   "execution_count": 17,
   "source": [
    "import pandas as pd\r\n",
    "import numpy as np\r\n",
    "df = pd.DataFrame({'Country': [1, 2, 3, 4], \\\r\n",
    "                   'ExploitType': [2, 3, 4, 1]})\r\n",
    "df.head()"
   ],
   "outputs": [
    {
     "output_type": "execute_result",
     "data": {
      "text/html": [
       "<div>\n",
       "<style scoped>\n",
       "    .dataframe tbody tr th:only-of-type {\n",
       "        vertical-align: middle;\n",
       "    }\n",
       "\n",
       "    .dataframe tbody tr th {\n",
       "        vertical-align: top;\n",
       "    }\n",
       "\n",
       "    .dataframe thead th {\n",
       "        text-align: right;\n",
       "    }\n",
       "</style>\n",
       "<table border=\"1\" class=\"dataframe\">\n",
       "  <thead>\n",
       "    <tr style=\"text-align: right;\">\n",
       "      <th></th>\n",
       "      <th>Country</th>\n",
       "      <th>ExploitType</th>\n",
       "    </tr>\n",
       "  </thead>\n",
       "  <tbody>\n",
       "    <tr>\n",
       "      <th>0</th>\n",
       "      <td>1</td>\n",
       "      <td>2</td>\n",
       "    </tr>\n",
       "    <tr>\n",
       "      <th>1</th>\n",
       "      <td>2</td>\n",
       "      <td>3</td>\n",
       "    </tr>\n",
       "    <tr>\n",
       "      <th>2</th>\n",
       "      <td>3</td>\n",
       "      <td>4</td>\n",
       "    </tr>\n",
       "    <tr>\n",
       "      <th>3</th>\n",
       "      <td>4</td>\n",
       "      <td>1</td>\n",
       "    </tr>\n",
       "  </tbody>\n",
       "</table>\n",
       "</div>"
      ],
      "text/plain": [
       "   Country  ExploitType\n",
       "0        1            2\n",
       "1        2            3\n",
       "2        3            4\n",
       "3        4            1"
      ]
     },
     "metadata": {},
     "execution_count": 17
    }
   ],
   "metadata": {}
  },
  {
   "cell_type": "code",
   "execution_count": 18,
   "source": [
    "for i in range(df[\"Country\"].size):\r\n",
    "    print(type(df[\"Country\"][i].item()))"
   ],
   "outputs": [
    {
     "output_type": "stream",
     "name": "stdout",
     "text": [
      "<class 'int'>\n",
      "<class 'int'>\n",
      "<class 'int'>\n",
      "<class 'int'>\n"
     ]
    }
   ],
   "metadata": {}
  },
  {
   "cell_type": "code",
   "execution_count": 22,
   "source": [
    "import psycopg2\r\n",
    "\r\n",
    "DB_HOST = \"ec2-52-203-74-38.compute-1.amazonaws.com\"\r\n",
    "DB_NAME = \"dan42vmiu08ba8\"\r\n",
    "DB_USER = \"inheaaxzpwucbt\"\r\n",
    "DB_PASS = \"c74bb19e817216833f19202dfc371aa250c7e00b5a877ca42acbf9d6610ae16d\"\r\n",
    "\r\n",
    "connection = psycopg2.connect(dbname=DB_NAME, user=DB_USER, password=DB_PASS, host=DB_HOST)\r\n",
    "\r\n",
    "cur = connection.cursor()\r\n",
    "\r\n",
    "# cur.execute(\"CREATE TABLE test (id SERIAL PRIMARY KEY, country VARCHAR);\")\r\n",
    "# cur.execute(\"ALTER TABLE test DROP COLUMN id\")\r\n",
    "# cur.execute(\"ALTER TABLE test ADD id INT\")\r\n",
    "for i in range(df[\"Country\"].size):\r\n",
    "    cur.execute(\"INSERT INTO test (id) VALUES(%s)\", (df[\"Country\"][i].item(),))\r\n",
    "connection.commit()\r\n",
    "\r\n",
    "cur.close()\r\n",
    "\r\n",
    "connection.close()"
   ],
   "outputs": [],
   "metadata": {}
  }
 ],
 "metadata": {
  "orig_nbformat": 4,
  "language_info": {
   "name": "python",
   "version": "3.7.10",
   "mimetype": "text/x-python",
   "codemirror_mode": {
    "name": "ipython",
    "version": 3
   },
   "pygments_lexer": "ipython3",
   "nbconvert_exporter": "python",
   "file_extension": ".py"
  },
  "kernelspec": {
   "name": "python3",
   "display_name": "Python 3.7.10 64-bit ('mlenv': conda)"
  },
  "interpreter": {
   "hash": "6ef91436c75441bff209dd3fb90dd6a3b4e1f5a85454829e394e29fa3feb2383"
  }
 },
 "nbformat": 4,
 "nbformat_minor": 2
}