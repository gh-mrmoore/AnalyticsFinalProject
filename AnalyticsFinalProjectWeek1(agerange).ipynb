{
  "nbformat": 4,
  "nbformat_minor": 0,
  "metadata": {
    "colab": {
      "name": "AnalyticsFinalProjectWeek1(agerange).ipynb",
      "provenance": [],
      "authorship_tag": "ABX9TyN8PTXagHaFdBAj75J/3htg",
      "include_colab_link": true
    },
    "kernelspec": {
      "name": "python3",
      "display_name": "Python 3"
    },
    "language_info": {
      "name": "python"
    }
  },
  "cells": [
    {
      "cell_type": "markdown",
      "metadata": {
        "id": "view-in-github",
        "colab_type": "text"
      },
      "source": [
        "<a href=\"https://colab.research.google.com/github/gh-mrmoore/AnalyticsFinalProject/blob/MichelleEscobar/AnalyticsFinalProjectWeek1(agerange).ipynb\" target=\"_parent\"><img src=\"https://colab.research.google.com/assets/colab-badge.svg\" alt=\"Open In Colab\"/></a>"
      ]
    },
    {
      "cell_type": "code",
      "metadata": {
        "id": "XLunE4bkoGLW"
      },
      "source": [
        "# Add dependencies\n",
        "import pandas as pd\n",
        "from sklearn.linear_model import LinearRegression"
      ],
      "execution_count": null,
      "outputs": []
    },
    {
      "cell_type": "code",
      "metadata": {
        "colab": {
          "base_uri": "https://localhost:8080/",
          "height": 329
        },
        "id": "VsYR_Qwzor1-",
        "outputId": "35bdd6af-c602-447b-b48d-c4298ae48b8f"
      },
      "source": [
        "trafficking_df = pd.read_csv(\"https://raw.githubusercontent.com/gh-mrmoore/AnalyticsFinalProject/MichelleVillafria/Database/human_traffick_sample_dataset.csv\")\n",
        "trafficking_df.head()"
      ],
      "execution_count": null,
      "outputs": [
        {
          "output_type": "execute_result",
          "data": {
            "text/html": [
              "<div>\n",
              "<style scoped>\n",
              "    .dataframe tbody tr th:only-of-type {\n",
              "        vertical-align: middle;\n",
              "    }\n",
              "\n",
              "    .dataframe tbody tr th {\n",
              "        vertical-align: top;\n",
              "    }\n",
              "\n",
              "    .dataframe thead th {\n",
              "        text-align: right;\n",
              "    }\n",
              "</style>\n",
              "<table border=\"1\" class=\"dataframe\">\n",
              "  <thead>\n",
              "    <tr style=\"text-align: right;\">\n",
              "      <th></th>\n",
              "      <th>registration_year</th>\n",
              "      <th>datasource</th>\n",
              "      <th>gender</th>\n",
              "      <th>age_range</th>\n",
              "      <th>majority_status</th>\n",
              "      <th>majority_status_at_exploit</th>\n",
              "      <th>majority_entry</th>\n",
              "      <th>citizenship</th>\n",
              "      <th>country_of_exploitation</th>\n",
              "      <th>control_financial</th>\n",
              "      <th>control_threats</th>\n",
              "      <th>control_physical</th>\n",
              "      <th>control_limit_necessities</th>\n",
              "      <th>control_other</th>\n",
              "      <th>labor</th>\n",
              "      <th>victim_purpose</th>\n",
              "      <th>trafficker_relationship</th>\n",
              "    </tr>\n",
              "  </thead>\n",
              "  <tbody>\n",
              "    <tr>\n",
              "      <th>0</th>\n",
              "      <td>2017</td>\n",
              "      <td>Case Management</td>\n",
              "      <td>Female</td>\n",
              "      <td>0--8</td>\n",
              "      <td>Minor</td>\n",
              "      <td>Minor</td>\n",
              "      <td>-99</td>\n",
              "      <td>-99</td>\n",
              "      <td>KH</td>\n",
              "      <td>-99</td>\n",
              "      <td>-99</td>\n",
              "      <td>1</td>\n",
              "      <td>-99</td>\n",
              "      <td>1</td>\n",
              "      <td>0</td>\n",
              "      <td>-99</td>\n",
              "      <td>-99</td>\n",
              "    </tr>\n",
              "    <tr>\n",
              "      <th>1</th>\n",
              "      <td>2017</td>\n",
              "      <td>Case Management</td>\n",
              "      <td>Female</td>\n",
              "      <td>0--8</td>\n",
              "      <td>Minor</td>\n",
              "      <td>Minor</td>\n",
              "      <td>-99</td>\n",
              "      <td>-99</td>\n",
              "      <td>KH</td>\n",
              "      <td>-99</td>\n",
              "      <td>1</td>\n",
              "      <td>1</td>\n",
              "      <td>-99</td>\n",
              "      <td>1</td>\n",
              "      <td>-99</td>\n",
              "      <td>6</td>\n",
              "      <td>4</td>\n",
              "    </tr>\n",
              "    <tr>\n",
              "      <th>2</th>\n",
              "      <td>2017</td>\n",
              "      <td>Case Management</td>\n",
              "      <td>Female</td>\n",
              "      <td>18--20</td>\n",
              "      <td>Adult</td>\n",
              "      <td>Adult</td>\n",
              "      <td>-99</td>\n",
              "      <td>KH</td>\n",
              "      <td>CN</td>\n",
              "      <td>-99</td>\n",
              "      <td>1</td>\n",
              "      <td>1</td>\n",
              "      <td>-99</td>\n",
              "      <td>-99</td>\n",
              "      <td>-99</td>\n",
              "      <td>3</td>\n",
              "      <td>3</td>\n",
              "    </tr>\n",
              "    <tr>\n",
              "      <th>3</th>\n",
              "      <td>2017</td>\n",
              "      <td>Case Management</td>\n",
              "      <td>Female</td>\n",
              "      <td>18--20</td>\n",
              "      <td>Adult</td>\n",
              "      <td>-99</td>\n",
              "      <td>-99</td>\n",
              "      <td>UA</td>\n",
              "      <td>UA</td>\n",
              "      <td>-99</td>\n",
              "      <td>-99</td>\n",
              "      <td>-99</td>\n",
              "      <td>-99</td>\n",
              "      <td>1</td>\n",
              "      <td>-99</td>\n",
              "      <td>-99</td>\n",
              "      <td>4</td>\n",
              "    </tr>\n",
              "    <tr>\n",
              "      <th>4</th>\n",
              "      <td>2017</td>\n",
              "      <td>Case Management</td>\n",
              "      <td>Female</td>\n",
              "      <td>21--23</td>\n",
              "      <td>Adult</td>\n",
              "      <td>Minor</td>\n",
              "      <td>-99</td>\n",
              "      <td>VN</td>\n",
              "      <td>VN</td>\n",
              "      <td>-99</td>\n",
              "      <td>1</td>\n",
              "      <td>-99</td>\n",
              "      <td>-99</td>\n",
              "      <td>-99</td>\n",
              "      <td>3</td>\n",
              "      <td>6</td>\n",
              "      <td>-99</td>\n",
              "    </tr>\n",
              "  </tbody>\n",
              "</table>\n",
              "</div>"
            ],
            "text/plain": [
              "   registration_year       datasource  ... victim_purpose trafficker_relationship\n",
              "0               2017  Case Management  ...            -99                     -99\n",
              "1               2017  Case Management  ...              6                       4\n",
              "2               2017  Case Management  ...              3                       3\n",
              "3               2017  Case Management  ...            -99                       4\n",
              "4               2017  Case Management  ...              6                     -99\n",
              "\n",
              "[5 rows x 17 columns]"
            ]
          },
          "metadata": {},
          "execution_count": 2
        }
      ]
    },
    {
      "cell_type": "code",
      "metadata": {
        "id": "ym6tu6bYo-h6"
      },
      "source": [
        "# Values for x and y\n",
        "x = trafficking_df[[\"age_range\"]]\n",
        "y = trafficking_df[\"labor\"]"
      ],
      "execution_count": null,
      "outputs": []
    },
    {
      "cell_type": "code",
      "metadata": {
        "colab": {
          "base_uri": "https://localhost:8080/"
        },
        "id": "cmRvupYMpID0",
        "outputId": "5f9258af-f262-465e-f84d-45465c68c703"
      },
      "source": [
        "print(x)"
      ],
      "execution_count": null,
      "outputs": [
        {
          "output_type": "stream",
          "name": "stdout",
          "text": [
            "    age_range\n",
            "0        0--8\n",
            "1        0--8\n",
            "2      18--20\n",
            "3      18--20\n",
            "4      21--23\n",
            "..        ...\n",
            "99     21--23\n",
            "100    21--23\n",
            "101    21--23\n",
            "102    21--23\n",
            "103    21--23\n",
            "\n",
            "[104 rows x 1 columns]\n"
          ]
        }
      ]
    },
    {
      "cell_type": "code",
      "metadata": {
        "colab": {
          "base_uri": "https://localhost:8080/"
        },
        "id": "ElPNvo1rpKeX",
        "outputId": "75f91edf-354d-4916-e066-b05ebab67b23"
      },
      "source": [
        "print(y)"
      ],
      "execution_count": null,
      "outputs": [
        {
          "output_type": "stream",
          "name": "stdout",
          "text": [
            "0       0\n",
            "1     -99\n",
            "2     -99\n",
            "3     -99\n",
            "4       3\n",
            "       ..\n",
            "99    -99\n",
            "100   -99\n",
            "101   -99\n",
            "102   -99\n",
            "103   -99\n",
            "Name: labor, Length: 104, dtype: int64\n"
          ]
        }
      ]
    }
  ]
}